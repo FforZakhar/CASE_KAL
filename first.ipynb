{
 "metadata": {
  "language_info": {
   "codemirror_mode": {
    "name": "ipython",
    "version": 3
   },
   "file_extension": ".py",
   "mimetype": "text/x-python",
   "name": "python",
   "nbconvert_exporter": "python",
   "pygments_lexer": "ipython3",
   "version": "3.8.5-final"
  },
  "orig_nbformat": 2,
  "kernelspec": {
   "name": "python3",
   "display_name": "Python 3",
   "language": "python"
  }
 },
 "nbformat": 4,
 "nbformat_minor": 2,
 "cells": [
  {
   "cell_type": "code",
   "execution_count": 1,
   "metadata": {},
   "outputs": [],
   "source": [
    "# !pip install pandas\n",
    "# !pip install numpy"
   ]
  },
  {
   "cell_type": "code",
   "execution_count": 15,
   "metadata": {},
   "outputs": [],
   "source": [
    "import numpy as np\n",
    "import pandas as pd\n",
    "import json\n",
    "\n",
    "pd.options.mode.chained_assignment = None # Fuck warnings"
   ]
  },
  {
   "source": [
    "<h1> Загрузка данных"
   ],
   "cell_type": "markdown",
   "metadata": {}
  },
  {
   "cell_type": "code",
   "execution_count": 3,
   "metadata": {},
   "outputs": [],
   "source": [
    "with open(r'C:\\Users\\User\\Documents\\snli_1.0/snli_1.0_train.jsonl', 'r') as json_file:\n",
    "    json_list = list(json_file)\n",
    "\n",
    "result = []\n",
    "for json_str in json_list:\n",
    "    result.append(json.loads(json_str))"
   ]
  },
  {
   "cell_type": "code",
   "execution_count": 4,
   "metadata": {},
   "outputs": [],
   "source": [
    "df_train = pd.json_normalize(result)"
   ]
  },
  {
   "cell_type": "code",
   "execution_count": 9,
   "metadata": {},
   "outputs": [],
   "source": [
    "df_cut = df_train[:10000]"
   ]
  },
  {
   "cell_type": "code",
   "execution_count": 6,
   "metadata": {},
   "outputs": [
    {
     "output_type": "execute_result",
     "data": {
      "text/plain": [
       "Index(['annotator_labels', 'captionID', 'gold_label', 'pairID', 'sentence1',\n",
       "       'sentence1_binary_parse', 'sentence1_parse', 'sentence2',\n",
       "       'sentence2_binary_parse', 'sentence2_parse'],\n",
       "      dtype='object')"
      ]
     },
     "metadata": {},
     "execution_count": 6
    }
   ],
   "source": [
    "df_cut.columns"
   ]
  },
  {
   "cell_type": "code",
   "execution_count": 7,
   "metadata": {},
   "outputs": [
    {
     "output_type": "execute_result",
     "data": {
      "text/plain": [
       "  annotator_labels         captionID gold_label               pairID  \\\n",
       "0        [neutral]  3416050480.jpg#4    neutral  3416050480.jpg#4r1n   \n",
       "\n",
       "                                           sentence1  \\\n",
       "0  A person on a horse jumps over a broken down a...   \n",
       "\n",
       "                              sentence1_binary_parse  \\\n",
       "0  ( ( ( A person ) ( on ( a horse ) ) ) ( ( jump...   \n",
       "\n",
       "                                     sentence1_parse  \\\n",
       "0  (ROOT (S (NP (NP (DT A) (NN person)) (PP (IN o...   \n",
       "\n",
       "                                           sentence2  \\\n",
       "0  A person is training his horse for a competition.   \n",
       "\n",
       "                              sentence2_binary_parse  \\\n",
       "0  ( ( A person ) ( ( is ( ( training ( his horse...   \n",
       "\n",
       "                                     sentence2_parse  \n",
       "0  (ROOT (S (NP (DT A) (NN person)) (VP (VBZ is) ...  "
      ],
      "text/html": "<div>\n<style scoped>\n    .dataframe tbody tr th:only-of-type {\n        vertical-align: middle;\n    }\n\n    .dataframe tbody tr th {\n        vertical-align: top;\n    }\n\n    .dataframe thead th {\n        text-align: right;\n    }\n</style>\n<table border=\"1\" class=\"dataframe\">\n  <thead>\n    <tr style=\"text-align: right;\">\n      <th></th>\n      <th>annotator_labels</th>\n      <th>captionID</th>\n      <th>gold_label</th>\n      <th>pairID</th>\n      <th>sentence1</th>\n      <th>sentence1_binary_parse</th>\n      <th>sentence1_parse</th>\n      <th>sentence2</th>\n      <th>sentence2_binary_parse</th>\n      <th>sentence2_parse</th>\n    </tr>\n  </thead>\n  <tbody>\n    <tr>\n      <th>0</th>\n      <td>[neutral]</td>\n      <td>3416050480.jpg#4</td>\n      <td>neutral</td>\n      <td>3416050480.jpg#4r1n</td>\n      <td>A person on a horse jumps over a broken down a...</td>\n      <td>( ( ( A person ) ( on ( a horse ) ) ) ( ( jump...</td>\n      <td>(ROOT (S (NP (NP (DT A) (NN person)) (PP (IN o...</td>\n      <td>A person is training his horse for a competition.</td>\n      <td>( ( A person ) ( ( is ( ( training ( his horse...</td>\n      <td>(ROOT (S (NP (DT A) (NN person)) (VP (VBZ is) ...</td>\n    </tr>\n  </tbody>\n</table>\n</div>"
     },
     "metadata": {},
     "execution_count": 7
    }
   ],
   "source": [
    "df_cut.head(1)"
   ]
  },
  {
   "source": [
    "<h1> Предобработка данных"
   ],
   "cell_type": "markdown",
   "metadata": {}
  },
  {
   "source": [
    "<h3> Оставляем только основу от слов"
   ],
   "cell_type": "markdown",
   "metadata": {}
  },
  {
   "cell_type": "code",
   "execution_count": 16,
   "metadata": {},
   "outputs": [],
   "source": [
    "import nltk.stem\n",
    "\n",
    "\n",
    "my_stem = nltk.stem.SnowballStemmer('english')\n",
    "\n",
    "def StemSentence(sentence):\n",
    "    new_sentence = ''\n",
    "\n",
    "    for word in sentence.split():\n",
    "        new_sentence += my_stem.stem(word) + ' '\n",
    "    \n",
    "    return new_sentence\n",
    "\n",
    "for i in [1, 2]:\n",
    "    df_cut[f'Stemmed_sentence{i}'] = df_cut[f'sentence{i}'].apply(StemSentence)"
   ]
  },
  {
   "source": [
    "<h1> Word2Vec"
   ],
   "cell_type": "markdown",
   "metadata": {}
  },
  {
   "cell_type": "code",
   "execution_count": null,
   "metadata": {},
   "outputs": [],
   "source": []
  }
 ]
}