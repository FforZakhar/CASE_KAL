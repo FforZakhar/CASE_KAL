{
 "metadata": {
  "language_info": {
   "codemirror_mode": {
    "name": "ipython",
    "version": 3
   },
   "file_extension": ".py",
   "mimetype": "text/x-python",
   "name": "python",
   "nbconvert_exporter": "python",
   "pygments_lexer": "ipython3",
   "version": "3.8.5-final"
  },
  "orig_nbformat": 2,
  "kernelspec": {
   "name": "python3",
   "display_name": "Python 3",
   "language": "python"
  }
 },
 "nbformat": 4,
 "nbformat_minor": 2,
 "cells": [
  {
   "cell_type": "code",
   "execution_count": 1,
   "metadata": {},
   "outputs": [],
   "source": [
    "# !pip install pandas\n",
    "# !pip install numpy"
   ]
  },
  {
   "cell_type": "code",
   "execution_count": 2,
   "metadata": {},
   "outputs": [],
   "source": [
    "import numpy as np\n",
    "import pandas as pd\n",
    "\n",
    "pd.options.mode.chained_assignment = None # Fuck warnings"
   ]
  },
  {
   "source": [
    "<h1> Загрузка данных"
   ],
   "cell_type": "markdown",
   "metadata": {}
  },
  {
   "cell_type": "code",
   "execution_count": 3,
   "metadata": {},
   "outputs": [],
   "source": [
    "import json\n",
    "\n",
    "\n",
    "with open(r'C:\\Users\\User\\Documents\\snli_1.0/snli_1.0_train.jsonl', 'r') as json_file:\n",
    "    json_list = list(json_file)\n",
    "\n",
    "result = []\n",
    "for json_str in json_list:\n",
    "    result.append(json.loads(json_str))"
   ]
  },
  {
   "cell_type": "code",
   "execution_count": 4,
   "metadata": {},
   "outputs": [],
   "source": [
    "df_train = pd.json_normalize(result)"
   ]
  },
  {
   "cell_type": "code",
   "execution_count": 5,
   "metadata": {},
   "outputs": [],
   "source": [
    "df_cut = df_train[:10000]"
   ]
  },
  {
   "cell_type": "code",
   "execution_count": 6,
   "metadata": {},
   "outputs": [
    {
     "output_type": "execute_result",
     "data": {
      "text/plain": [
       "Index(['annotator_labels', 'captionID', 'gold_label', 'pairID', 'sentence1',\n",
       "       'sentence1_binary_parse', 'sentence1_parse', 'sentence2',\n",
       "       'sentence2_binary_parse', 'sentence2_parse'],\n",
       "      dtype='object')"
      ]
     },
     "metadata": {},
     "execution_count": 6
    }
   ],
   "source": [
    "df_cut.columns"
   ]
  },
  {
   "cell_type": "code",
   "execution_count": 7,
   "metadata": {},
   "outputs": [
    {
     "output_type": "execute_result",
     "data": {
      "text/plain": [
       "  annotator_labels         captionID gold_label               pairID  \\\n",
       "0        [neutral]  3416050480.jpg#4    neutral  3416050480.jpg#4r1n   \n",
       "\n",
       "                                           sentence1  \\\n",
       "0  A person on a horse jumps over a broken down a...   \n",
       "\n",
       "                              sentence1_binary_parse  \\\n",
       "0  ( ( ( A person ) ( on ( a horse ) ) ) ( ( jump...   \n",
       "\n",
       "                                     sentence1_parse  \\\n",
       "0  (ROOT (S (NP (NP (DT A) (NN person)) (PP (IN o...   \n",
       "\n",
       "                                           sentence2  \\\n",
       "0  A person is training his horse for a competition.   \n",
       "\n",
       "                              sentence2_binary_parse  \\\n",
       "0  ( ( A person ) ( ( is ( ( training ( his horse...   \n",
       "\n",
       "                                     sentence2_parse  \n",
       "0  (ROOT (S (NP (DT A) (NN person)) (VP (VBZ is) ...  "
      ],
      "text/html": "<div>\n<style scoped>\n    .dataframe tbody tr th:only-of-type {\n        vertical-align: middle;\n    }\n\n    .dataframe tbody tr th {\n        vertical-align: top;\n    }\n\n    .dataframe thead th {\n        text-align: right;\n    }\n</style>\n<table border=\"1\" class=\"dataframe\">\n  <thead>\n    <tr style=\"text-align: right;\">\n      <th></th>\n      <th>annotator_labels</th>\n      <th>captionID</th>\n      <th>gold_label</th>\n      <th>pairID</th>\n      <th>sentence1</th>\n      <th>sentence1_binary_parse</th>\n      <th>sentence1_parse</th>\n      <th>sentence2</th>\n      <th>sentence2_binary_parse</th>\n      <th>sentence2_parse</th>\n    </tr>\n  </thead>\n  <tbody>\n    <tr>\n      <th>0</th>\n      <td>[neutral]</td>\n      <td>3416050480.jpg#4</td>\n      <td>neutral</td>\n      <td>3416050480.jpg#4r1n</td>\n      <td>A person on a horse jumps over a broken down a...</td>\n      <td>( ( ( A person ) ( on ( a horse ) ) ) ( ( jump...</td>\n      <td>(ROOT (S (NP (NP (DT A) (NN person)) (PP (IN o...</td>\n      <td>A person is training his horse for a competition.</td>\n      <td>( ( A person ) ( ( is ( ( training ( his horse...</td>\n      <td>(ROOT (S (NP (DT A) (NN person)) (VP (VBZ is) ...</td>\n    </tr>\n  </tbody>\n</table>\n</div>"
     },
     "metadata": {},
     "execution_count": 7
    }
   ],
   "source": [
    "df_cut.head(1)"
   ]
  },
  {
   "source": [
    "<h1> Предобработка данных"
   ],
   "cell_type": "markdown",
   "metadata": {}
  },
  {
   "source": [
    "<h3> Оставляем только основу от слов"
   ],
   "cell_type": "markdown",
   "metadata": {}
  },
  {
   "cell_type": "code",
   "execution_count": 8,
   "metadata": {},
   "outputs": [],
   "source": [
    "import nltk.stem\n",
    "\n",
    "\n",
    "my_stem = nltk.stem.SnowballStemmer('english')\n",
    "\n",
    "def stemSentence(sentence):\n",
    "    new_sentence = ''\n",
    "\n",
    "    for word in sentence.split():\n",
    "        new_sentence += my_stem.stem(word) + ' '\n",
    "    \n",
    "    return new_sentence[:-1]"
   ]
  },
  {
   "source": [
    "<h3> Убираем символы"
   ],
   "cell_type": "markdown",
   "metadata": {}
  },
  {
   "cell_type": "code",
   "execution_count": 9,
   "metadata": {},
   "outputs": [],
   "source": [
    "import string\n",
    "\n",
    "def deleteSymbs(sentence):\n",
    "    res = ''\n",
    "\n",
    "    for char in sentence:\n",
    "        if char not in string.punctuation:\n",
    "            res += char\n",
    "    \n",
    "    return res"
   ]
  },
  {
   "source": [
    "<h3> Agregate function"
   ],
   "cell_type": "markdown",
   "metadata": {}
  },
  {
   "cell_type": "code",
   "execution_count": 10,
   "metadata": {},
   "outputs": [],
   "source": [
    "def fixSentence(sentence):\n",
    "    for func in ['deleteSymbs', 'stemSentence']:\n",
    "        sentence = eval(func)(sentence)\n",
    "    \n",
    "    return sentence"
   ]
  },
  {
   "cell_type": "code",
   "execution_count": 11,
   "metadata": {},
   "outputs": [],
   "source": [
    "for i in [1, 2]:\n",
    "    df_cut[f'Fixed_sentence{i}'] = df_cut[f'sentence{i}'].apply(fixSentence)"
   ]
  },
  {
   "source": [
    "<h1> Word2Vec"
   ],
   "cell_type": "markdown",
   "metadata": {}
  },
  {
   "cell_type": "code",
   "execution_count": 23,
   "metadata": {},
   "outputs": [],
   "source": [
    "texts = np.concatenate((df_cut.Fixed_sentence1.values, df_cut.Fixed_sentence2.values))"
   ]
  },
  {
   "cell_type": "code",
   "execution_count": 32,
   "metadata": {},
   "outputs": [
    {
     "output_type": "stream",
     "name": "stdout",
     "text": [
      "[==================================================] 100.0% 31.6/31.6MB downloaded\n",
      "<ipython-input-32-14c79032dbe6>:7: DeprecationWarning: Call to deprecated `most_similar` (Method will be removed in 4.0.0, use self.wv.most_similar() instead).\n",
      "  model.most_similar(\"car\")\n"
     ]
    },
    {
     "output_type": "execute_result",
     "data": {
      "text/plain": [
       "[('driver', 0.8082566857337952),\n",
       " ('cars', 0.7426753044128418),\n",
       " ('motorcycle', 0.7394026517868042),\n",
       " ('truck', 0.707937479019165),\n",
       " ('vehicle', 0.6957083344459534),\n",
       " ('taxi', 0.6873030066490173),\n",
       " ('racing', 0.6870726943016052),\n",
       " ('passenger', 0.6720129251480103),\n",
       " ('mustang', 0.656194269657135),\n",
       " ('automobile', 0.6460007429122925)]"
      ]
     },
     "metadata": {},
     "execution_count": 32
    }
   ],
   "source": [
    "from gensim.models.word2vec import Word2Vec\n",
    "import gensim.downloader as api\n",
    "\n",
    "\n",
    "corpus = api.load('text8')  # download the corpus and return it opened as an iterable\n",
    "model = Word2Vec(corpus)    # train a model from the corpus\n",
    "model.most_similar(\"car\")"
   ]
  },
  {
   "cell_type": "code",
   "execution_count": 35,
   "metadata": {},
   "outputs": [
    {
     "output_type": "stream",
     "name": "stdout",
     "text": [
      "[==================================================] 100.0% 128.1/128.1MB downloaded\n"
     ]
    }
   ],
   "source": [
    "# model = api.load('glove-twitter-200') # 758MB\n",
    "model = api.load('glove-wiki-gigaword-100') # 128MB - гораздо адекватнее"
   ]
  },
  {
   "cell_type": "code",
   "execution_count": 42,
   "metadata": {},
   "outputs": [
    {
     "output_type": "execute_result",
     "data": {
      "text/plain": [
       "[('horses', 0.8550404906272888),\n",
       " ('riding', 0.7131650447845459),\n",
       " ('dog', 0.7109653353691101),\n",
       " ('racing', 0.6629325151443481),\n",
       " ('bike', 0.6614626049995422),\n",
       " ('thoroughbred', 0.6600428819656372),\n",
       " ('bull', 0.6456228494644165),\n",
       " ('jockey', 0.6354342699050903),\n",
       " ('breeders', 0.6333900690078735),\n",
       " ('race', 0.6270371675491333)]"
      ]
     },
     "metadata": {},
     "execution_count": 42
    }
   ],
   "source": [
    "model.most_similar('horse')"
   ]
  }
 ]
}